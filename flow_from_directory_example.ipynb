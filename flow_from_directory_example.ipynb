{
 "cells": [
  {
   "cell_type": "markdown",
   "metadata": {},
   "source": [
    "# <center>Machine Learning in Python</center>  "
   ]
  },
  {
   "cell_type": "code",
   "execution_count": 2,
   "metadata": {},
   "outputs": [
    {
     "name": "stdout",
     "output_type": "stream",
     "text": [
      "Found 90 images belonging to 2 classes.\n",
      "Found 10 images belonging to 2 classes.\n",
      "Found 25 images belonging to 1 classes.\n"
     ]
    }
   ],
   "source": [
    "# import required packages\n",
    "from keras.models import Sequential\n",
    "from keras.layers import Dense, Flatten, Dropout\n",
    "from keras.preprocessing.image import ImageDataGenerator\n",
    "from keras.utils import to_categorical\n",
    "from sklearn.preprocessing import LabelEncoder\n",
    "from sklearn.model_selection import train_test_split\n",
    "import numpy as np\n",
    "import cv2\n",
    "import os\n",
    "\n",
    "img_width = img_height = 100\n",
    "\n",
    "# lets load train and test images\n",
    "train_path = \"C:/Users/kashif/Desktop/kc_workshop/final/keras/dataset/banana-vs-apricot/data/train/\"\n",
    "val_path = \"C:/Users/kashif/Desktop/kc_workshop/final/keras/dataset/banana-vs-apricot/data/val/\"\n",
    "test_path = \"C:/Users/kashif/Desktop/kc_workshop/final/keras/dataset/banana-vs-apricot/data/\"\n",
    "\n",
    "# used to rescale the pixel values from [0, 255] to [0, 1] interval\n",
    "train_datagen = ImageDataGenerator(\n",
    "        rescale=1 / 255.0,\n",
    "        rotation_range=20,\n",
    "        zoom_range=0.05,\n",
    "        width_shift_range=0.05,\n",
    "        height_shift_range=0.05,\n",
    "        shear_range=0.05,\n",
    "        horizontal_flip=True,\n",
    "        fill_mode=\"nearest\")\n",
    "\n",
    "test_datagen = ImageDataGenerator(rescale=1 / 255.0)\n",
    "\n",
    "# automagically retrieve images and their classes for train and validation sets\n",
    "\n",
    "train_generator = train_datagen.flow_from_directory(\n",
    "    directory=train_path, \n",
    "    target_size=(100, 100), \n",
    "    color_mode=\"rgb\", \n",
    "    class_mode=\"binary\",   \n",
    "    shuffle=True, \n",
    "    seed=42 \n",
    ")\n",
    "\n",
    "valid_generator = train_datagen.flow_from_directory(\n",
    "    directory=val_path,\n",
    "    target_size=(100, 100),\n",
    "    color_mode=\"rgb\",\n",
    "    class_mode=\"binary\",  \n",
    "    shuffle=True,\n",
    "    seed=42\n",
    ")\n",
    "test_generator = test_datagen.flow_from_directory(\n",
    "    directory= test_path,\n",
    "    target_size=(100, 100),\n",
    "    color_mode=\"rgb\",\n",
    "    class_mode=None,\n",
    "    classes=['test1'],\n",
    "    shuffle=False,\n",
    "    seed=42\n",
    ")\n"
   ]
  },
  {
   "cell_type": "code",
   "execution_count": 16,
   "metadata": {
    "collapsed": true
   },
   "outputs": [],
   "source": [
    "def simple_lr():\n",
    "    # initialize model\n",
    "    model = Sequential()\n",
    "    # flatten or vectorize input layer images\n",
    "    model.add(Flatten(input_shape=(img_height,img_width,3)))\n",
    "    # add an input layer and output layer\n",
    "    model.add(Dense(1, input_dim=img_height*img_width, activation='sigmoid'))   \n",
    "    model.compile(loss=\"binary_crossentropy\",optimizer=\"adam\",metrics=['accuracy'])\n",
    "    return model\n"
   ]
  },
  {
   "cell_type": "code",
   "execution_count": 17,
   "metadata": {},
   "outputs": [
    {
     "name": "stdout",
     "output_type": "stream",
     "text": [
      "Epoch 1/5\n",
      "22/22 [==============================] - 1s 29ms/step - loss: 2.0886 - acc: 0.7616 - val_loss: 0.0033 - val_acc: 1.0000\n",
      "Epoch 2/5\n",
      "22/22 [==============================] - 0s 22ms/step - loss: 5.1595e-04 - acc: 1.0000 - val_loss: 4.5993e-04 - val_acc: 1.0000\n",
      "Epoch 3/5\n",
      "22/22 [==============================] - 0s 22ms/step - loss: 1.7964e-04 - acc: 1.0000 - val_loss: 2.3808e-04 - val_acc: 1.0000\n",
      "Epoch 4/5\n",
      "22/22 [==============================] - 0s 22ms/step - loss: 4.7397e-04 - acc: 1.0000 - val_loss: 1.9960e-05 - val_acc: 1.0000\n",
      "Epoch 5/5\n",
      "22/22 [==============================] - 1s 23ms/step - loss: 5.2162e-07 - acc: 1.0000 - val_loss: 5.2759e-05 - val_acc: 1.0000\n"
     ]
    },
    {
     "data": {
      "text/plain": [
       "<keras.callbacks.History at 0x1e0318d0>"
      ]
     },
     "execution_count": 17,
     "metadata": {},
     "output_type": "execute_result"
    }
   ],
   "source": [
    "model = simple_lr()\n",
    "model.fit_generator(train_generator,\n",
    "                    validation_data = valid_generator,\n",
    "                    steps_per_epoch = train_generator.n//train_generator.batch_size,\n",
    "                    validation_steps = valid_generator.n//valid_generator.batch_size,\n",
    "                    epochs=5)"
   ]
  },
  {
   "cell_type": "code",
   "execution_count": 22,
   "metadata": {},
   "outputs": [
    {
     "name": "stdout",
     "output_type": "stream",
     "text": [
      "Training accuracy: 1.0\n",
      "validation accuracy: 1.0\n"
     ]
    }
   ],
   "source": [
    "score_train = model.evaluate_generator(train_generator)\n",
    "score_val = model.evaluate_generator(valid_generator)\n",
    "print('Training accuracy:', score_train[1])\n",
    "print('validation accuracy:', score_val[1])"
   ]
  },
  {
   "cell_type": "code",
   "execution_count": 20,
   "metadata": {},
   "outputs": [
    {
     "name": "stdout",
     "output_type": "stream",
     "text": [
      "[0 0 0 0 0 0 0 0 0 0 0 0 0 0 0 0 0 0 0 0 0 0 0 0 0]\n"
     ]
    }
   ],
   "source": [
    "predict=model.predict_generator(test_generator)\n",
    "y_classes = predict.argmax(axis=-1)\n",
    "print(y_classes)"
   ]
  }
 ],
 "metadata": {
  "kernelspec": {
   "display_name": "Python 3",
   "language": "python",
   "name": "python3"
  },
  "language_info": {
   "codemirror_mode": {
    "name": "ipython",
    "version": 3
   },
   "file_extension": ".py",
   "mimetype": "text/x-python",
   "name": "python",
   "nbconvert_exporter": "python",
   "pygments_lexer": "ipython3",
   "version": "3.5.3"
  }
 },
 "nbformat": 4,
 "nbformat_minor": 2
}

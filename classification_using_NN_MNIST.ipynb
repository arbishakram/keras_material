{
 "cells": [
  {
   "cell_type": "markdown",
   "metadata": {
    "colab_type": "text",
    "id": "ahVJXlZUC9xL"
   },
   "source": [
    "# <center>Machine Learning in Python</center> "
   ]
  },
  {
   "cell_type": "markdown",
   "metadata": {
    "colab_type": "text",
    "id": "fCuh-o9YS4Bz"
   },
   "source": [
    "Mount your Google drive by using this code snippet"
   ]
  },
  {
   "cell_type": "code",
   "execution_count": 1,
   "metadata": {
    "colab": {
     "base_uri": "https://localhost:8080/",
     "height": 122
    },
    "colab_type": "code",
    "executionInfo": {
     "elapsed": 26317,
     "status": "ok",
     "timestamp": 1582869836549,
     "user": {
      "displayName": "ARBISH AKRAM",
      "photoUrl": "",
      "userId": "07144718352820072135"
     },
     "user_tz": -300
    },
    "id": "C5LfwwRbTrq7",
    "outputId": "1f11e592-48e8-4b73-a329-d6363bb932d1"
   },
   "outputs": [
    {
     "name": "stdout",
     "output_type": "stream",
     "text": [
      "Go to this URL in a browser: https://accounts.google.com/o/oauth2/auth?client_id=947318989803-6bn6qk8qdgf4n4g3pfee6491hc0brc4i.apps.googleusercontent.com&redirect_uri=urn%3aietf%3awg%3aoauth%3a2.0%3aoob&response_type=code&scope=email%20https%3a%2f%2fwww.googleapis.com%2fauth%2fdocs.test%20https%3a%2f%2fwww.googleapis.com%2fauth%2fdrive%20https%3a%2f%2fwww.googleapis.com%2fauth%2fdrive.photos.readonly%20https%3a%2f%2fwww.googleapis.com%2fauth%2fpeopleapi.readonly\n",
      "\n",
      "Enter your authorization code:\n",
      "··········\n",
      "Mounted at /content/drive\n"
     ]
    }
   ],
   "source": [
    "from google.colab import drive\n",
    "drive.mount('/content/drive')"
   ]
  },
  {
   "cell_type": "markdown",
   "metadata": {
    "colab_type": "text",
    "id": "n_EsQs3aThrW"
   },
   "source": [
    "check current directory contents"
   ]
  },
  {
   "cell_type": "code",
   "execution_count": 3,
   "metadata": {
    "colab": {
     "base_uri": "https://localhost:8080/",
     "height": 119
    },
    "colab_type": "code",
    "executionInfo": {
     "elapsed": 4214,
     "status": "ok",
     "timestamp": 1582869846273,
     "user": {
      "displayName": "ARBISH AKRAM",
      "photoUrl": "",
      "userId": "07144718352820072135"
     },
     "user_tz": -300
    },
    "id": "lZlK7kFXGqp5",
    "outputId": "1ec9f87a-1643-4224-fd7f-26950eb9f09a"
   },
   "outputs": [
    {
     "name": "stdout",
     "output_type": "stream",
     "text": [
      "classification_using_NN_cats-vs-dogs.ipynb\n",
      "classification_using_NN_MNIST.ipynb\n",
      "dataset\n",
      "keras_basics_notebook.ipynb\n",
      "regression_using_NN_boston-housing.ipynb\n",
      "working_with_google_colab.ipynb\n"
     ]
    }
   ],
   "source": [
    "!ls '/content/drive/My Drive/Workshop-Python/'"
   ]
  },
  {
   "cell_type": "markdown",
   "metadata": {
    "colab_type": "text",
    "id": "HwrnPVMOWQ1z"
   },
   "source": [
    "**Neural Network in Keras**\n",
    "In this excercise, we will learn to: \n",
    "1. import MNIST dataset and visualize some example images\n",
    "2. define the neural network model with a single hidden layer\n",
    "3. train the model and plot the accuracy and loss at each epoch\n",
    "4. test the model\n",
    "6. save the model after every 10 epochs"
   ]
  },
  {
   "cell_type": "markdown",
   "metadata": {
    "colab_type": "text",
    "id": "IM2zY_RVC9zO"
   },
   "source": [
    "## 1. Import MNIST dataset"
   ]
  },
  {
   "cell_type": "code",
   "execution_count": 2,
   "metadata": {
    "colab": {
     "base_uri": "https://localhost:8080/",
     "height": 233
    },
    "colab_type": "code",
    "executionInfo": {
     "elapsed": 2675,
     "status": "ok",
     "timestamp": 1582869842177,
     "user": {
      "displayName": "ARBISH AKRAM",
      "photoUrl": "",
      "userId": "07144718352820072135"
     },
     "user_tz": -300
    },
    "id": "V9LLpoTmW3UT",
    "outputId": "eab3eb64-21b8-4ff1-9d42-a688524a1be1"
   },
   "outputs": [
    {
     "name": "stderr",
     "output_type": "stream",
     "text": [
      "Using TensorFlow backend.\n"
     ]
    },
    {
     "data": {
      "text/html": [
       "<p style=\"color: red;\">\n",
       "The default version of TensorFlow in Colab will soon switch to TensorFlow 2.x.<br>\n",
       "We recommend you <a href=\"https://www.tensorflow.org/guide/migrate\" target=\"_blank\">upgrade</a> now \n",
       "or ensure your notebook will continue to use TensorFlow 1.x via the <code>%tensorflow_version 1.x</code> magic:\n",
       "<a href=\"https://colab.research.google.com/notebooks/tensorflow_version.ipynb\" target=\"_blank\">more info</a>.</p>\n"
      ],
      "text/plain": [
       "<IPython.core.display.HTML object>"
      ]
     },
     "metadata": {
      "tags": []
     },
     "output_type": "display_data"
    },
    {
     "name": "stdout",
     "output_type": "stream",
     "text": [
      "Downloading data from https://s3.amazonaws.com/img-datasets/mnist.npz\n",
      "11493376/11490434 [==============================] - 0s 0us/step\n",
      "Number of training images: 60000\n",
      "Number of test images: 60000\n",
      "Image rows: 28\n",
      "Image columns: 28\n",
      "Number of classes: 10\n",
      "Training data shape:  (60000, 28, 28) (60000,)\n",
      "Testing data shape:  (10000, 28, 28) (10000,)\n"
     ]
    }
   ],
   "source": [
    "from keras.datasets import mnist\n",
    "import numpy as np\n",
    "(train_X, train_Y), (test_X, test_Y) = mnist.load_data()\n",
    "_, img_rows, img_cols =  train_X.shape\n",
    "num_classes = len(np.unique(train_Y))\n",
    "num_input_nodes = img_rows*img_cols\n",
    "print(\"Number of training images: %d\"%train_X.shape[0])\n",
    "print(\"Number of test images: %d\"%train_X.shape[0])\n",
    "print(\"Image rows: %d\"%train_X.shape[1])\n",
    "print(\"Image columns: %d\"%train_X.shape[2])\n",
    "print(\"Number of classes: %d\"%num_classes)\n",
    "print(\"Training data shape: \", train_X.shape, train_Y.shape)\n",
    "print(\"Testing data shape: \", test_X.shape, test_Y.shape)"
   ]
  },
  {
   "cell_type": "markdown",
   "metadata": {
    "colab_type": "text",
    "id": "27BL8GVmXsGF"
   },
   "source": [
    "### Visualize some examples from dataset"
   ]
  },
  {
   "cell_type": "code",
   "execution_count": 4,
   "metadata": {
    "colab": {
     "base_uri": "https://localhost:8080/",
     "height": 213
    },
    "colab_type": "code",
    "executionInfo": {
     "elapsed": 1184,
     "status": "ok",
     "timestamp": 1582869850041,
     "user": {
      "displayName": "ARBISH AKRAM",
      "photoUrl": "",
      "userId": "07144718352820072135"
     },
     "user_tz": -300
    },
    "id": "BPIHiZMSXpfi",
    "outputId": "2e263c3e-e40a-452c-b13a-3b8133b0cdf1"
   },
   "outputs": [
    {
     "data": {
      "image/png": "[encoded data removed]",
      "text/plain": [
       "<Figure size 576x216 with 10 Axes>"
      ]
     },
     "metadata": {
      "tags": []
     },
     "output_type": "display_data"
    }
   ],
   "source": [
    "import matplotlib.pyplot as plt\n",
    "\n",
    "fig = plt.figure(figsize=(8,3)) # size of figure in inches (1 inch = 96 pixels)\n",
    "for i in range(num_classes):\n",
    "    ax = fig.add_subplot(2, 5, 1 + i, xticks=[], yticks=[]) # add_subplot(rows,cols,position,labels on x and y axis)\n",
    "    X_idx = train_X[train_Y[:]==i,:]   \n",
    "    ax.set_title(\"Num: \" + str(i)) # plot first image of certain class (label)\n",
    "    plt.imshow(X_idx[1], cmap=\"gray\") #color map gray \n",
    "plt.show()"
   ]
  },
  {
   "cell_type": "markdown",
   "metadata": {
    "colab_type": "text",
    "id": "cLk_HsX2X-BM"
   },
   "source": [
    "### Pre-processing the dataset"
   ]
  },
  {
   "cell_type": "code",
   "execution_count": 5,
   "metadata": {
    "colab": {
     "base_uri": "https://localhost:8080/",
     "height": 85
    },
    "colab_type": "code",
    "executionInfo": {
     "elapsed": 949,
     "status": "ok",
     "timestamp": 1582869852440,
     "user": {
      "displayName": "ARBISH AKRAM",
      "photoUrl": "",
      "userId": "07144718352820072135"
     },
     "user_tz": -300
    },
    "id": "sqFxLtL5YEY7",
    "outputId": "41887a3d-3882-441b-ab18-ea0d48f5ce00"
   },
   "outputs": [
    {
     "name": "stdout",
     "output_type": "stream",
     "text": [
      "train_X: (60000, 784)\n",
      "test_X: (10000, 784)\n",
      "train_Y: (60000, 10)\n",
      "test_Y: (10000, 10)\n"
     ]
    }
   ],
   "source": [
    "import keras\n",
    "# reshape images to column vectors\n",
    "train_X = train_X.reshape(train_X.shape[0], img_rows*img_cols)\n",
    "test_X = test_X.reshape(test_X.shape[0], img_rows*img_cols)\n",
    "# convert class labels to binary class labels\n",
    "train_Y = keras.utils.np_utils.to_categorical(train_Y, num_classes)\n",
    "test_Y = keras.utils.np_utils.to_categorical(test_Y, num_classes)\n",
    "print(\"train_X:\",train_X.shape)\n",
    "print(\"test_X:\",test_X.shape)\n",
    "print(\"train_Y:\",train_Y.shape)\n",
    "print(\"test_Y:\",test_Y.shape)"
   ]
  },
  {
   "cell_type": "markdown",
   "metadata": {
    "colab_type": "text",
    "id": "IPHnDNuMC90a"
   },
   "source": [
    "# 2. Define model"
   ]
  },
  {
   "cell_type": "code",
   "execution_count": 6,
   "metadata": {
    "colab": {
     "base_uri": "https://localhost:8080/",
     "height": 357
    },
    "colab_type": "code",
    "executionInfo": {
     "elapsed": 1142,
     "status": "ok",
     "timestamp": 1582869854927,
     "user": {
      "displayName": "ARBISH AKRAM",
      "photoUrl": "",
      "userId": "07144718352820072135"
     },
     "user_tz": -300
    },
    "id": "WgWpdiyWYhKg",
    "outputId": "ab5e7b84-1fb4-4651-bf1c-cbc05c65d982"
   },
   "outputs": [
    {
     "name": "stdout",
     "output_type": "stream",
     "text": [
      "WARNING:tensorflow:From /usr/local/lib/python3.6/dist-packages/keras/backend/tensorflow_backend.py:66: The name tf.get_default_graph is deprecated. Please use tf.compat.v1.get_default_graph instead.\n",
      "\n",
      "WARNING:tensorflow:From /usr/local/lib/python3.6/dist-packages/keras/backend/tensorflow_backend.py:541: The name tf.placeholder is deprecated. Please use tf.compat.v1.placeholder instead.\n",
      "\n",
      "WARNING:tensorflow:From /usr/local/lib/python3.6/dist-packages/keras/backend/tensorflow_backend.py:4432: The name tf.random_uniform is deprecated. Please use tf.random.uniform instead.\n",
      "\n",
      "WARNING:tensorflow:From /usr/local/lib/python3.6/dist-packages/keras/optimizers.py:793: The name tf.train.Optimizer is deprecated. Please use tf.compat.v1.train.Optimizer instead.\n",
      "\n",
      "Model: \"sequential_1\"\n",
      "_________________________________________________________________\n",
      "Layer (type)                 Output Shape              Param #   \n",
      "=================================================================\n",
      "dense_1 (Dense)              (None, 100)               78500     \n",
      "_________________________________________________________________\n",
      "dense_2 (Dense)              (None, 10)                1010      \n",
      "=================================================================\n",
      "Total params: 79,510\n",
      "Trainable params: 79,510\n",
      "Non-trainable params: 0\n",
      "_________________________________________________________________\n"
     ]
    }
   ],
   "source": [
    "from keras.models import Sequential\n",
    "from keras.layers.core import Dense\n",
    "from keras.optimizers import SGD\n",
    "\n",
    "def nn():\n",
    "    # initialize model\n",
    "    model = Sequential()\n",
    "    # add an input layer and a hidden layer with sigmoid activation \n",
    "    model.add(Dense(100, input_dim = num_input_nodes, activation='sigmoid'))\n",
    "    # add output layer with activation\n",
    "    model.add(Dense(num_classes, activation='softmax'))\n",
    "    return model\n",
    "\n",
    "# define model\n",
    "model = nn()\n",
    "# define optimizer\n",
    "sgd = SGD(lr=0.01) # check with different lr values\n",
    "model.compile(optimizer=sgd, loss='mse', metrics=['accuracy'])\n",
    "# print model information\n",
    "model.summary()"
   ]
  },
  {
   "cell_type": "markdown",
   "metadata": {
    "colab_type": "text",
    "id": "Fijtj_ElY3Wu"
   },
   "source": [
    "## 3. Train the model"
   ]
  },
  {
   "cell_type": "code",
   "execution_count": 7,
   "metadata": {
    "colab": {
     "base_uri": "https://localhost:8080/",
     "height": 663
    },
    "colab_type": "code",
    "executionInfo": {
     "elapsed": 77212,
     "status": "ok",
     "timestamp": 1582869934854,
     "user": {
      "displayName": "ARBISH AKRAM",
      "photoUrl": "",
      "userId": "07144718352820072135"
     },
     "user_tz": -300
    },
    "id": "9IxjWs1RY5vG",
    "outputId": "61044f6d-9109-486c-bfd2-ed50c24ecd9a"
   },
   "outputs": [
    {
     "name": "stdout",
     "output_type": "stream",
     "text": [
      "WARNING:tensorflow:From /usr/local/lib/python3.6/dist-packages/keras/backend/tensorflow_backend.py:1033: The name tf.assign_add is deprecated. Please use tf.compat.v1.assign_add instead.\n",
      "\n",
      "WARNING:tensorflow:From /usr/local/lib/python3.6/dist-packages/keras/backend/tensorflow_backend.py:1020: The name tf.assign is deprecated. Please use tf.compat.v1.assign instead.\n",
      "\n",
      "WARNING:tensorflow:From /usr/local/lib/python3.6/dist-packages/keras/backend/tensorflow_backend.py:3005: The name tf.Session is deprecated. Please use tf.compat.v1.Session instead.\n",
      "\n",
      "Train on 48000 samples, validate on 12000 samples\n",
      "Epoch 1/10\n",
      "WARNING:tensorflow:From /usr/local/lib/python3.6/dist-packages/keras/backend/tensorflow_backend.py:190: The name tf.get_default_session is deprecated. Please use tf.compat.v1.get_default_session instead.\n",
      "\n",
      "WARNING:tensorflow:From /usr/local/lib/python3.6/dist-packages/keras/backend/tensorflow_backend.py:197: The name tf.ConfigProto is deprecated. Please use tf.compat.v1.ConfigProto instead.\n",
      "\n",
      "WARNING:tensorflow:From /usr/local/lib/python3.6/dist-packages/keras/backend/tensorflow_backend.py:207: The name tf.global_variables is deprecated. Please use tf.compat.v1.global_variables instead.\n",
      "\n",
      "WARNING:tensorflow:From /usr/local/lib/python3.6/dist-packages/keras/backend/tensorflow_backend.py:216: The name tf.is_variable_initialized is deprecated. Please use tf.compat.v1.is_variable_initialized instead.\n",
      "\n",
      "WARNING:tensorflow:From /usr/local/lib/python3.6/dist-packages/keras/backend/tensorflow_backend.py:223: The name tf.variables_initializer is deprecated. Please use tf.compat.v1.variables_initializer instead.\n",
      "\n",
      " - 16s - loss: 0.0697 - acc: 0.4713 - val_loss: 0.0513 - val_acc: 0.7047\n",
      "Epoch 2/10\n",
      " - 7s - loss: 0.0431 - acc: 0.7570 - val_loss: 0.0344 - val_acc: 0.8215\n",
      "Epoch 3/10\n",
      " - 7s - loss: 0.0322 - acc: 0.8222 - val_loss: 0.0272 - val_acc: 0.8542\n",
      "Epoch 4/10\n",
      " - 7s - loss: 0.0267 - acc: 0.8518 - val_loss: 0.0233 - val_acc: 0.8722\n",
      "Epoch 5/10\n",
      " - 7s - loss: 0.0235 - acc: 0.8694 - val_loss: 0.0209 - val_acc: 0.8825\n",
      "Epoch 6/10\n",
      " - 7s - loss: 0.0214 - acc: 0.8789 - val_loss: 0.0194 - val_acc: 0.8898\n",
      "Epoch 7/10\n",
      " - 7s - loss: 0.0197 - acc: 0.8880 - val_loss: 0.0181 - val_acc: 0.8938\n",
      "Epoch 8/10\n",
      " - 7s - loss: 0.0184 - acc: 0.8936 - val_loss: 0.0171 - val_acc: 0.8997\n",
      "Epoch 9/10\n",
      " - 7s - loss: 0.0173 - acc: 0.9000 - val_loss: 0.0165 - val_acc: 0.9022\n",
      "Epoch 10/10\n",
      " - 7s - loss: 0.0166 - acc: 0.9036 - val_loss: 0.0158 - val_acc: 0.9064\n",
      "Model took 76.11 seconds to train\n"
     ]
    }
   ],
   "source": [
    "import time\n",
    "start = time.time()\n",
    "model_info = model.fit(train_X, train_Y, batch_size=16, epochs=10, verbose=2, validation_split=0.2)\n",
    "end = time.time()\n",
    "print(\"Model took %0.2f seconds to train\"%(end - start))"
   ]
  },
  {
   "cell_type": "markdown",
   "metadata": {
    "colab_type": "text",
    "id": "rZBraDW4ZB1e"
   },
   "source": [
    "**Visualize accuracy and loss plots over training epochs**"
   ]
  },
  {
   "cell_type": "code",
   "execution_count": 9,
   "metadata": {
    "colab": {
     "base_uri": "https://localhost:8080/",
     "height": 350
    },
    "colab_type": "code",
    "executionInfo": {
     "elapsed": 1464,
     "status": "ok",
     "timestamp": 1582869945074,
     "user": {
      "displayName": "ARBISH AKRAM",
      "photoUrl": "",
      "userId": "07144718352820072135"
     },
     "user_tz": -300
    },
    "id": "hgut7YBAbr3O",
    "outputId": "6d824777-4de2-4ff2-ff5b-dc1e4c0ab268"
   },
   "outputs": [
    {
     "data": {
      "image/png": "[encoded data removed]",
      "text/plain": [
       "<Figure size 1080x360 with 2 Axes>"
      ]
     },
     "metadata": {
      "tags": []
     },
     "output_type": "display_data"
    }
   ],
   "source": [
    "def plot_model_history(model_history):\n",
    "    fig, axs = plt.subplots(1,2,figsize=(15,5))\n",
    "    # model history for accuracy\n",
    "    axs[0].plot(range(1,len(model_history.history['acc'])+1),model_history.history['acc'])\n",
    "    axs[0].plot(range(1,len(model_history.history['val_acc'])+1),model_history.history['val_acc'])\n",
    "    axs[0].set_title('Model Accuracy')\n",
    "    axs[0].set_ylabel('Accuracy')\n",
    "    axs[0].set_xlabel('Epoch')\n",
    "    axs[0].set_xticks(np.arange(1,len(model_history.history['acc'])+1),len(model_history.history['acc'])/10)\n",
    "    axs[0].legend(['training acc', 'val acc'], loc='best')\n",
    "    axs[0].grid(True)\n",
    "    # model history for loss\n",
    "    axs[1].plot(range(1,len(model_history.history['loss'])+1),model_history.history['loss'])\n",
    "    axs[1].plot(range(1,len(model_history.history['val_loss'])+1),model_history.history['val_loss'])\n",
    "    axs[1].set_title('Model Loss')\n",
    "    axs[1].set_ylabel('Loss')\n",
    "    axs[1].set_xlabel('Epoch')\n",
    "    axs[1].set_xticks(np.arange(1,len(model_history.history['loss'])+1),len(model_history.history['loss'])/10)\n",
    "    axs[1].legend(['training loss', 'val loss'], loc='best')\n",
    "    axs[1].grid(True)\n",
    "plot_model_history(model_info)"
   ]
  },
  {
   "cell_type": "markdown",
   "metadata": {
    "colab_type": "text",
    "id": "4ymLrIHOcDMY"
   },
   "source": [
    "## 5. Test the model"
   ]
  },
  {
   "cell_type": "code",
   "execution_count": 10,
   "metadata": {
    "colab": {
     "base_uri": "https://localhost:8080/",
     "height": 34
    },
    "colab_type": "code",
    "executionInfo": {
     "elapsed": 960,
     "status": "ok",
     "timestamp": 1582869949158,
     "user": {
      "displayName": "ARBISH AKRAM",
      "photoUrl": "",
      "userId": "07144718352820072135"
     },
     "user_tz": -300
    },
    "id": "KeHHiF20cFtR",
    "outputId": "69278545-1ad5-4aca-f3f2-74d6edb9a436"
   },
   "outputs": [
    {
     "name": "stdout",
     "output_type": "stream",
     "text": [
      "Accuracy on test data is: 90.41\n"
     ]
    }
   ],
   "source": [
    "def accuracy(test_X, test_Y, model):\n",
    "    result = model.predict(test_X) # will give you (N,10) matrix, in each row we have probabilities of a neuron\n",
    "    predicted_class = np.argmax(result, axis=1) # returns the indices of the maximum index along 1 axis\n",
    "    true_class = np.argmax(test_Y, axis=1) # returns the indices of the maximum index along 1 axis\n",
    "    num_correct = np.sum(predicted_class == true_class) \n",
    "    accuracy = float(num_correct)/result.shape[0]\n",
    "    return (accuracy * 100)\n",
    "\n",
    "print(\"Accuracy on test data is: %0.2f\"%accuracy(test_X, test_Y, model))"
   ]
  },
  {
   "cell_type": "markdown",
   "metadata": {
    "colab_type": "text",
    "id": "qXaUxYufAXM_"
   },
   "source": [
    "## 5. Save the model after every 10 epochs"
   ]
  },
  {
   "cell_type": "code",
   "execution_count": 0,
   "metadata": {
    "colab": {},
    "colab_type": "code",
    "collapsed": true,
    "id": "MPyCVwJrAyCQ"
   },
   "outputs": [],
   "source": [
    "from keras.callbacks import ModelCheckpoint\n",
    "import os\n",
    "\n",
    "# define a deep neural network\n",
    "model = nn()\n",
    "# define optimizer\n",
    "sgd = SGD(lr=0.1)\n",
    "model.compile(optimizer=sgd, loss='mse', metrics=['accuracy'])\n",
    "# checkpoint\n",
    "outputFolder = 'weights/'\n",
    "if not os.path.exists(outputFolder):\n",
    "    os.makedirs(outputFolder)\n",
    "\n",
    "filepath=outputFolder+\"/weights-{epoch:02d}-{val_acc:.2f}.hdf5\"\n",
    "checkpoint = ModelCheckpoint(filepath, monitor='val_acc', verbose=1, \\\n",
    "                             save_best_only=False, save_weights_only=True, \\\n",
    "                             mode='auto', period=10)\n",
    "callbacks_list = [checkpoint]\n",
    "\n",
    "# train the model\n",
    "model_info = model.fit(train_X, train_Y, batch_size=128, \\\n",
    "                       epochs=80, callbacks=callbacks_list, verbose=0, \\\n",
    "                       validation_split=0.2)\n",
    "# compute test accuracy\n",
    "print(\"Accuracy on test data is: %0.2f\"%accuracy(test_X, test_Y, model))"
   ]
  }
 ],
 "metadata": {
  "accelerator": "GPU",
  "colab": {
   "collapsed_sections": [],
   "name": "classification_using_NN_MNIST.ipynb",
   "provenance": []
  },
  "kernelspec": {
   "display_name": "Python 3",
   "language": "python",
   "name": "python3"
  },
  "language_info": {
   "codemirror_mode": {
    "name": "ipython",
    "version": 3
   },
   "file_extension": ".py",
   "mimetype": "text/x-python",
   "name": "python",
   "nbconvert_exporter": "python",
   "pygments_lexer": "ipython3",
   "version": "3.5.3"
  }
 },
 "nbformat": 4,
 "nbformat_minor": 1
}

{
 "cells": [
  {
   "cell_type": "markdown",
   "metadata": {
    "colab_type": "text",
    "id": "3zyz6BP0Ma8D"
   },
   "source": [
    "# <center>Machine Learning in Python</center> "
   ]
  },
  {
   "cell_type": "markdown",
   "metadata": {
    "colab_type": "text",
    "id": "YMNjteWUMuEu"
   },
   "source": [
    "Mount your Google drive by using this code snippet"
   ]
  },
  {
   "cell_type": "code",
   "execution_count": 0,
   "metadata": {
    "colab": {},
    "colab_type": "code",
    "collapsed": true,
    "id": "xWp6KHUKMrKe"
   },
   "outputs": [],
   "source": [
    "from google.colab import drive\n",
    "drive.mount('/content/drive')"
   ]
  },
  {
   "cell_type": "code",
   "execution_count": 0,
   "metadata": {
    "colab": {},
    "colab_type": "code",
    "id": "vglw9j2hMa8X",
    "outputId": "7127d124-f64c-4e6d-887d-e4b8fec70da2"
   },
   "outputs": [
    {
     "name": "stderr",
     "output_type": "stream",
     "text": [
      "Using TensorFlow backend.\n"
     ]
    }
   ],
   "source": [
    "from keras.datasets import boston_housing"
   ]
  },
  {
   "cell_type": "markdown",
   "metadata": {
    "colab_type": "text",
    "id": "A0_QRXeRMa84"
   },
   "source": [
    "**Boston Housing dataset**\n",
    "The Boston housing dataset contains information about houses features and their prices relatively. This dataset has 506 samples (404 training, 102 testing). Each sample has 13 features to predict the median value of the house. \n",
    "\n",
    "The dataset can be found here [Boston Housing dataset](https://www.kaggle.com/c/boston-housing)\n"
   ]
  },
  {
   "cell_type": "markdown",
   "metadata": {
    "colab_type": "text",
    "id": "9wzPFs5sMa8-"
   },
   "source": [
    "### 1. Load dataset"
   ]
  },
  {
   "cell_type": "code",
   "execution_count": 0,
   "metadata": {
    "colab": {},
    "colab_type": "code",
    "id": "ZRbPF7X6Ma9F",
    "outputId": "4f7358e3-48d8-4a15-bb9b-9f5c2e99ce09"
   },
   "outputs": [
    {
     "name": "stdout",
     "output_type": "stream",
     "text": [
      "(404, 13)\n",
      "(102, 13)\n",
      "(404,)\n",
      "(102,)\n"
     ]
    }
   ],
   "source": [
    "(train_X, train_Y), (test_X, test_Y) = boston_housing.load_data()\n",
    "print(train_X.shape)\n",
    "print(train_Y.shape)\n",
    "print(test_X.shape)\n",
    "print(test_Y.shape)"
   ]
  },
  {
   "cell_type": "markdown",
   "metadata": {
    "colab_type": "text",
    "id": "IvooT2kBMa9b"
   },
   "source": [
    "### 2. Define Model"
   ]
  },
  {
   "cell_type": "code",
   "execution_count": 0,
   "metadata": {
    "colab": {},
    "colab_type": "code",
    "collapsed": true,
    "id": "ZKP8pJSfMa9i"
   },
   "outputs": [],
   "source": [
    "from keras.models import Sequential\n",
    "from keras.layers import Dense\n",
    "\n",
    "def nn():\n",
    "    model = Sequential()\n",
    "    model.add(Dense(1, input_shape = (13,), activation = 'sigmoid'))\n",
    "    model.add(Dense(1))\n",
    "    return model\n",
    "\n",
    "model = nn()"
   ]
  },
  {
   "cell_type": "markdown",
   "metadata": {
    "colab_type": "text",
    "id": "EKs190SYMa94"
   },
   "source": [
    "## 3. Compile Model"
   ]
  },
  {
   "cell_type": "code",
   "execution_count": 0,
   "metadata": {
    "colab": {},
    "colab_type": "code",
    "id": "B2Gm6uGfMa99",
    "outputId": "2efb77e2-8dd1-454f-d451-4ce403ef35b8"
   },
   "outputs": [
    {
     "name": "stdout",
     "output_type": "stream",
     "text": [
      "_________________________________________________________________\n",
      "Layer (type)                 Output Shape              Param #   \n",
      "=================================================================\n",
      "dense_17 (Dense)             (None, 1)                 14        \n",
      "_________________________________________________________________\n",
      "dense_18 (Dense)             (None, 1)                 2         \n",
      "=================================================================\n",
      "Total params: 16\n",
      "Trainable params: 16\n",
      "Non-trainable params: 0\n",
      "_________________________________________________________________\n"
     ]
    }
   ],
   "source": [
    "from keras import optimizers\n",
    "\n",
    "sgd = optimizers.SGD(lr = 0.01) \n",
    "model.compile(optimizer = sgd, loss = 'mse', metrics = ['mse'])  \n",
    "model.summary()"
   ]
  },
  {
   "cell_type": "markdown",
   "metadata": {
    "colab_type": "text",
    "id": "LfjW-T8SMa-j"
   },
   "source": [
    "## 4. Fit Model"
   ]
  },
  {
   "cell_type": "code",
   "execution_count": 0,
   "metadata": {
    "colab": {},
    "colab_type": "code",
    "id": "knglxKLzMa-v",
    "outputId": "1f45604b-21bf-489d-99cd-40bb09d72ca6"
   },
   "outputs": [
    {
     "name": "stdout",
     "output_type": "stream",
     "text": [
      "Epoch 1/100\n",
      "404/404 [==============================] - 0s 196us/step - loss: 459.4234 - mean_squared_error: 459.4234\n",
      "Epoch 2/100\n",
      "404/404 [==============================] - 0s 32us/step - loss: 269.2452 - mean_squared_error: 269.2452\n",
      "Epoch 3/100\n",
      "404/404 [==============================] - 0s 22us/step - loss: 168.8895 - mean_squared_error: 168.8895\n",
      "Epoch 4/100\n",
      "404/404 [==============================] - 0s 30us/step - loss: 124.3931 - mean_squared_error: 124.3931\n",
      "Epoch 5/100\n",
      "404/404 [==============================] - 0s 27us/step - loss: 104.3562 - mean_squared_error: 104.3562\n",
      "Epoch 6/100\n",
      "404/404 [==============================] - 0s 32us/step - loss: 94.4869 - mean_squared_error: 94.4869\n",
      "Epoch 7/100\n",
      "404/404 [==============================] - 0s 32us/step - loss: 90.5826 - mean_squared_error: 90.5826\n",
      "Epoch 8/100\n",
      "404/404 [==============================] - 0s 30us/step - loss: 87.1536 - mean_squared_error: 87.1536\n",
      "Epoch 9/100\n",
      "404/404 [==============================] - 0s 35us/step - loss: 85.8439 - mean_squared_error: 85.8439\n",
      "Epoch 10/100\n",
      "404/404 [==============================] - 0s 37us/step - loss: 85.2352 - mean_squared_error: 85.2352\n",
      "Epoch 11/100\n",
      "404/404 [==============================] - 0s 32us/step - loss: 84.8292 - mean_squared_error: 84.8292\n",
      "Epoch 12/100\n",
      "404/404 [==============================] - 0s 30us/step - loss: 84.9641 - mean_squared_error: 84.9641\n",
      "Epoch 13/100\n",
      "404/404 [==============================] - 0s 25us/step - loss: 84.8107 - mean_squared_error: 84.8107\n",
      "Epoch 14/100\n",
      "404/404 [==============================] - 0s 25us/step - loss: 84.7359 - mean_squared_error: 84.7359\n",
      "Epoch 15/100\n",
      "404/404 [==============================] - 0s 25us/step - loss: 84.7147 - mean_squared_error: 84.7147\n",
      "Epoch 16/100\n",
      "404/404 [==============================] - 0s 30us/step - loss: 84.7383 - mean_squared_error: 84.7383\n",
      "Epoch 17/100\n",
      "404/404 [==============================] - 0s 30us/step - loss: 84.6627 - mean_squared_error: 84.6627\n",
      "Epoch 18/100\n",
      "404/404 [==============================] - 0s 25us/step - loss: 84.7931 - mean_squared_error: 84.7931\n",
      "Epoch 19/100\n",
      "404/404 [==============================] - 0s 37us/step - loss: 84.7041 - mean_squared_error: 84.7041\n",
      "Epoch 20/100\n",
      "404/404 [==============================] - 0s 35us/step - loss: 84.6928 - mean_squared_error: 84.6928\n",
      "Epoch 21/100\n",
      "404/404 [==============================] - 0s 35us/step - loss: 84.7322 - mean_squared_error: 84.7322\n",
      "Epoch 22/100\n",
      "404/404 [==============================] - 0s 25us/step - loss: 84.6928 - mean_squared_error: 84.6928\n",
      "Epoch 23/100\n",
      "404/404 [==============================] - 0s 27us/step - loss: 84.6665 - mean_squared_error: 84.6665\n",
      "Epoch 24/100\n",
      "404/404 [==============================] - 0s 27us/step - loss: 84.7466 - mean_squared_error: 84.7466\n",
      "Epoch 25/100\n",
      "404/404 [==============================] - 0s 30us/step - loss: 84.7231 - mean_squared_error: 84.7231\n",
      "Epoch 26/100\n",
      "404/404 [==============================] - 0s 30us/step - loss: 84.7201 - mean_squared_error: 84.7201\n",
      "Epoch 27/100\n",
      "404/404 [==============================] - 0s 27us/step - loss: 84.7058 - mean_squared_error: 84.7058\n",
      "Epoch 28/100\n",
      "404/404 [==============================] - 0s 32us/step - loss: 84.6907 - mean_squared_error: 84.6907\n",
      "Epoch 29/100\n",
      "404/404 [==============================] - 0s 32us/step - loss: 84.7086 - mean_squared_error: 84.7086\n",
      "Epoch 30/100\n",
      "404/404 [==============================] - 0s 25us/step - loss: 84.7611 - mean_squared_error: 84.7611\n",
      "Epoch 31/100\n",
      "404/404 [==============================] - 0s 37us/step - loss: 84.8801 - mean_squared_error: 84.8801\n",
      "Epoch 32/100\n",
      "404/404 [==============================] - 0s 40us/step - loss: 84.9451 - mean_squared_error: 84.9451\n",
      "Epoch 33/100\n",
      "404/404 [==============================] - 0s 32us/step - loss: 84.8531 - mean_squared_error: 84.8531\n",
      "Epoch 34/100\n",
      "404/404 [==============================] - 0s 32us/step - loss: 84.8629 - mean_squared_error: 84.8629\n",
      "Epoch 35/100\n",
      "404/404 [==============================] - 0s 25us/step - loss: 84.7367 - mean_squared_error: 84.7367\n",
      "Epoch 36/100\n",
      "404/404 [==============================] - 0s 27us/step - loss: 84.8471 - mean_squared_error: 84.8471\n",
      "Epoch 37/100\n",
      "404/404 [==============================] - 0s 42us/step - loss: 84.7279 - mean_squared_error: 84.7279\n",
      "Epoch 38/100\n",
      "404/404 [==============================] - 0s 35us/step - loss: 84.7278 - mean_squared_error: 84.7278\n",
      "Epoch 39/100\n",
      "404/404 [==============================] - 0s 25us/step - loss: 84.6961 - mean_squared_error: 84.6961\n",
      "Epoch 40/100\n",
      "404/404 [==============================] - 0s 32us/step - loss: 84.6914 - mean_squared_error: 84.6914\n",
      "Epoch 41/100\n",
      "404/404 [==============================] - 0s 40us/step - loss: 84.6995 - mean_squared_error: 84.6995\n",
      "Epoch 42/100\n",
      "404/404 [==============================] - 0s 22us/step - loss: 84.7042 - mean_squared_error: 84.7042\n",
      "Epoch 43/100\n",
      "404/404 [==============================] - 0s 37us/step - loss: 84.6702 - mean_squared_error: 84.6702\n",
      "Epoch 44/100\n",
      "404/404 [==============================] - 0s 37us/step - loss: 84.7094 - mean_squared_error: 84.7094\n",
      "Epoch 45/100\n",
      "404/404 [==============================] - 0s 30us/step - loss: 84.7489 - mean_squared_error: 84.7489\n",
      "Epoch 46/100\n",
      "404/404 [==============================] - 0s 25us/step - loss: 84.7777 - mean_squared_error: 84.7777\n",
      "Epoch 47/100\n",
      "404/404 [==============================] - 0s 35us/step - loss: 84.7634 - mean_squared_error: 84.7634\n",
      "Epoch 48/100\n",
      "404/404 [==============================] - 0s 35us/step - loss: 84.7055 - mean_squared_error: 84.7055\n",
      "Epoch 49/100\n",
      "404/404 [==============================] - 0s 25us/step - loss: 84.7085 - mean_squared_error: 84.7085\n",
      "Epoch 50/100\n",
      "404/404 [==============================] - 0s 22us/step - loss: 84.7426 - mean_squared_error: 84.7426\n",
      "Epoch 51/100\n",
      "404/404 [==============================] - 0s 37us/step - loss: 84.7148 - mean_squared_error: 84.7148\n",
      "Epoch 52/100\n",
      "404/404 [==============================] - 0s 27us/step - loss: 84.7111 - mean_squared_error: 84.7111\n",
      "Epoch 53/100\n",
      "404/404 [==============================] - 0s 27us/step - loss: 84.6993 - mean_squared_error: 84.6993\n",
      "Epoch 54/100\n",
      "404/404 [==============================] - 0s 27us/step - loss: 84.6887 - mean_squared_error: 84.6887\n",
      "Epoch 55/100\n",
      "404/404 [==============================] - 0s 22us/step - loss: 84.6829 - mean_squared_error: 84.6829\n",
      "Epoch 56/100\n",
      "404/404 [==============================] - 0s 35us/step - loss: 84.7106 - mean_squared_error: 84.7106\n",
      "Epoch 57/100\n",
      "404/404 [==============================] - 0s 25us/step - loss: 84.8330 - mean_squared_error: 84.8330\n",
      "Epoch 58/100\n",
      "404/404 [==============================] - 0s 37us/step - loss: 84.7027 - mean_squared_error: 84.7027\n",
      "Epoch 59/100\n",
      "404/404 [==============================] - 0s 22us/step - loss: 84.7152 - mean_squared_error: 84.7152\n",
      "Epoch 60/100\n",
      "404/404 [==============================] - 0s 27us/step - loss: 84.6769 - mean_squared_error: 84.6769\n",
      "Epoch 61/100\n",
      "404/404 [==============================] - 0s 22us/step - loss: 84.6856 - mean_squared_error: 84.6856\n",
      "Epoch 62/100\n",
      "404/404 [==============================] - 0s 20us/step - loss: 84.6803 - mean_squared_error: 84.6803\n",
      "Epoch 63/100\n",
      "404/404 [==============================] - 0s 22us/step - loss: 84.7219 - mean_squared_error: 84.7219\n",
      "Epoch 64/100\n",
      "404/404 [==============================] - 0s 25us/step - loss: 84.7580 - mean_squared_error: 84.7580\n",
      "Epoch 65/100\n",
      "404/404 [==============================] - 0s 30us/step - loss: 84.8272 - mean_squared_error: 84.8272\n",
      "Epoch 66/100\n",
      "404/404 [==============================] - 0s 20us/step - loss: 84.8211 - mean_squared_error: 84.8211\n",
      "Epoch 67/100\n",
      "404/404 [==============================] - 0s 22us/step - loss: 84.7142 - mean_squared_error: 84.7142\n",
      "Epoch 68/100\n",
      "404/404 [==============================] - 0s 20us/step - loss: 84.7088 - mean_squared_error: 84.7088\n",
      "Epoch 69/100\n",
      "404/404 [==============================] - 0s 22us/step - loss: 84.7495 - mean_squared_error: 84.7495\n",
      "Epoch 70/100\n",
      "404/404 [==============================] - 0s 27us/step - loss: 84.7135 - mean_squared_error: 84.7135\n",
      "Epoch 71/100\n",
      "404/404 [==============================] - 0s 20us/step - loss: 84.6903 - mean_squared_error: 84.6903\n",
      "Epoch 72/100\n",
      "404/404 [==============================] - 0s 27us/step - loss: 84.6472 - mean_squared_error: 84.6472\n",
      "Epoch 73/100\n",
      "404/404 [==============================] - 0s 25us/step - loss: 84.6790 - mean_squared_error: 84.6790\n",
      "Epoch 74/100\n",
      "404/404 [==============================] - 0s 20us/step - loss: 84.6858 - mean_squared_error: 84.6858\n",
      "Epoch 75/100\n",
      "404/404 [==============================] - 0s 25us/step - loss: 84.6416 - mean_squared_error: 84.6416\n",
      "Epoch 76/100\n",
      "404/404 [==============================] - 0s 25us/step - loss: 84.7037 - mean_squared_error: 84.7037\n",
      "Epoch 77/100\n",
      "404/404 [==============================] - 0s 17us/step - loss: 84.6700 - mean_squared_error: 84.6700\n",
      "Epoch 78/100\n",
      "404/404 [==============================] - 0s 20us/step - loss: 84.6977 - mean_squared_error: 84.6977\n",
      "Epoch 79/100\n",
      "404/404 [==============================] - 0s 17us/step - loss: 84.6642 - mean_squared_error: 84.6642\n",
      "Epoch 80/100\n",
      "404/404 [==============================] - 0s 20us/step - loss: 84.6977 - mean_squared_error: 84.6977\n",
      "Epoch 81/100\n",
      "404/404 [==============================] - 0s 17us/step - loss: 84.6815 - mean_squared_error: 84.6815\n",
      "Epoch 82/100\n",
      "404/404 [==============================] - 0s 17us/step - loss: 84.7322 - mean_squared_error: 84.7322\n",
      "Epoch 83/100\n",
      "404/404 [==============================] - 0s 20us/step - loss: 84.7716 - mean_squared_error: 84.7716\n",
      "Epoch 84/100\n",
      "404/404 [==============================] - 0s 17us/step - loss: 84.8451 - mean_squared_error: 84.8451\n",
      "Epoch 85/100\n",
      "404/404 [==============================] - 0s 22us/step - loss: 84.7792 - mean_squared_error: 84.7792\n",
      "Epoch 86/100\n",
      "404/404 [==============================] - 0s 20us/step - loss: 84.7200 - mean_squared_error: 84.7200\n",
      "Epoch 87/100\n",
      "404/404 [==============================] - 0s 17us/step - loss: 84.6639 - mean_squared_error: 84.6639\n",
      "Epoch 88/100\n",
      "404/404 [==============================] - 0s 17us/step - loss: 84.7364 - mean_squared_error: 84.7364\n",
      "Epoch 89/100\n",
      "404/404 [==============================] - 0s 17us/step - loss: 84.7720 - mean_squared_error: 84.7720\n",
      "Epoch 90/100\n",
      "404/404 [==============================] - 0s 17us/step - loss: 84.7316 - mean_squared_error: 84.7316\n",
      "Epoch 91/100\n",
      "404/404 [==============================] - 0s 17us/step - loss: 84.7921 - mean_squared_error: 84.7921\n",
      "Epoch 92/100\n",
      "404/404 [==============================] - 0s 17us/step - loss: 84.7054 - mean_squared_error: 84.7054\n",
      "Epoch 93/100\n",
      "404/404 [==============================] - 0s 25us/step - loss: 84.8133 - mean_squared_error: 84.8133\n",
      "Epoch 94/100\n",
      "404/404 [==============================] - 0s 17us/step - loss: 84.7559 - mean_squared_error: 84.7559\n",
      "Epoch 95/100\n",
      "404/404 [==============================] - 0s 17us/step - loss: 84.7120 - mean_squared_error: 84.7120\n",
      "Epoch 96/100\n",
      "404/404 [==============================] - 0s 17us/step - loss: 84.6507 - mean_squared_error: 84.6507\n",
      "Epoch 97/100\n",
      "404/404 [==============================] - 0s 22us/step - loss: 84.8280 - mean_squared_error: 84.8280\n",
      "Epoch 98/100\n",
      "404/404 [==============================] - 0s 17us/step - loss: 84.7009 - mean_squared_error: 84.7009\n",
      "Epoch 99/100\n",
      "404/404 [==============================] - 0s 25us/step - loss: 84.6530 - mean_squared_error: 84.6530\n",
      "Epoch 100/100\n",
      "404/404 [==============================] - 0s 20us/step - loss: 84.7162 - mean_squared_error: 84.7162\n"
     ]
    },
    {
     "data": {
      "text/plain": [
       "<keras.callbacks.History at 0x1b839cf8>"
      ]
     },
     "execution_count": 27,
     "metadata": {
      "tags": []
     },
     "output_type": "execute_result"
    }
   ],
   "source": [
    "model.fit(train_X, train_Y, batch_size = 50, epochs = 100, verbose = 1)"
   ]
  },
  {
   "cell_type": "markdown",
   "metadata": {
    "colab_type": "text",
    "id": "FXzuJi4RMa_P"
   },
   "source": [
    "## 5. Evaluate Model"
   ]
  },
  {
   "cell_type": "code",
   "execution_count": 0,
   "metadata": {
    "colab": {},
    "colab_type": "code",
    "id": "2ae1VflkMa_V",
    "outputId": "e775a09f-7655-4e14-9130-904280ac3fee"
   },
   "outputs": [
    {
     "name": "stdout",
     "output_type": "stream",
     "text": [
      "102/102 [==============================] - 0s 412us/step\n",
      "['loss', 'mean_squared_error']\n",
      "loss:  83.4589924532\n",
      "mse:  83.4589924532\n"
     ]
    }
   ],
   "source": [
    "results = model.evaluate(test_X, test_Y)\n",
    "print(model.metrics_names)  \n",
    "print('loss: ', results[0])\n",
    "print('mse: ', results[1])"
   ]
  }
 ],
 "metadata": {
  "colab": {
   "collapsed_sections": [],
   "name": "regression_using_NN_boston-housing.ipynb",
   "provenance": []
  },
  "kernelspec": {
   "display_name": "Python 3",
   "language": "python",
   "name": "python3"
  },
  "language_info": {
   "codemirror_mode": {
    "name": "ipython",
    "version": 3
   },
   "file_extension": ".py",
   "mimetype": "text/x-python",
   "name": "python",
   "nbconvert_exporter": "python",
   "pygments_lexer": "ipython3",
   "version": "3.5.3"
  }
 },
 "nbformat": 4,
 "nbformat_minor": 1
}

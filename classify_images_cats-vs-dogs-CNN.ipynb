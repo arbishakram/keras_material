{
 "cells": [
  {
   "cell_type": "markdown",
   "metadata": {
    "colab_type": "text",
    "id": "aZ6fXTzdYqbS"
   },
   "source": [
    "# <center>Machine Learning in Python</center> "
   ]
  },
  {
   "cell_type": "markdown",
   "metadata": {
    "colab_type": "text",
    "id": "UYIHpg--Yqbc"
   },
   "source": [
    "Mount your Google drive by using this code snippet"
   ]
  },
  {
   "cell_type": "code",
   "execution_count": 2,
   "metadata": {
    "colab": {
     "base_uri": "https://localhost:8080/",
     "height": 34
    },
    "colab_type": "code",
    "executionInfo": {
     "elapsed": 1243,
     "status": "ok",
     "timestamp": 1582870043057,
     "user": {
      "displayName": "ARBISH AKRAM",
      "photoUrl": "",
      "userId": "07144718352820072135"
     },
     "user_tz": -300
    },
    "id": "FunfJyntYqbj",
    "outputId": "079facca-3a20-4435-f89c-9c78351f9af9"
   },
   "outputs": [
    {
     "name": "stdout",
     "output_type": "stream",
     "text": [
      "Drive already mounted at /content/drive; to attempt to forcibly remount, call drive.mount(\"/content/drive\", force_remount=True).\n"
     ]
    }
   ],
   "source": [
    "from google.colab import drive\n",
    "drive.mount('/content/drive')"
   ]
  },
  {
   "cell_type": "markdown",
   "metadata": {
    "colab_type": "text",
    "id": "tUQJxmN5Yqb3"
   },
   "source": [
    "In this exercise, we will build a neural network model from scratch that is able to distinguish dogs from cats. \n",
    "\n",
    "**NOTE:** The 2200 images used in this exercise are excerpted from the [\"Dogs vs. Cats\"](https://www.kaggle.com/c/dogs-vs-cats/data) dataset available on Kaggle, which contains 25,000 images. We use a subset of the full dataset here.\n"
   ]
  },
  {
   "cell_type": "markdown",
   "metadata": {
    "colab_type": "text",
    "id": "GJenTzZTYqb-"
   },
   "source": [
    "#### 1.1 Load dataset\n",
    " "
   ]
  },
  {
   "cell_type": "code",
   "execution_count": null,
   "metadata": {
    "colab": {
     "base_uri": "https://localhost:8080/",
     "height": 68
    },
    "colab_type": "code",
    "executionInfo": {
     "elapsed": 1251,
     "status": "ok",
     "timestamp": 1582871720557,
     "user": {
      "displayName": "ARBISH AKRAM",
      "photoUrl": "",
      "userId": "07144718352820072135"
     },
     "user_tz": -300
    },
    "id": "bo8kR9KXYqcH",
    "outputId": "cf79ef14-cd08-49d9-c052-56cb27937327"
   },
   "outputs": [
    {
     "name": "stderr",
     "output_type": "stream",
     "text": [
      "Using TensorFlow backend.\n"
     ]
    }
   ],
   "source": [
    "from keras.preprocessing.image import ImageDataGenerator\n",
    "\n",
    "img_height, img_width = 128, 128\n",
    "\n",
    "train_data_dir = '/content/drive/My Drive/Workshop-Keras/dataset/dogs-vs-cats/train/'\n",
    "validation_data_dir = '/content/drive/My Drive/Workshop-Keras/dataset/dogs-vs-cats/val/' \n",
    "test_data_dir = '/content/drive/My Drive/Workshop-Keras/dataset/dogs-vs-cats/'\n",
    "\n",
    "# normalize the pixel values from [0, 255] to [0, 1] interval\n",
    "datagen = ImageDataGenerator(rescale=1./255)\n",
    "\n",
    "# automagically retrieve images and their classes for train and validation sets\n",
    "batch_size = 32 # e.g 4, 8, 16, 32, 64\n",
    "\n",
    "train_generator = datagen.flow_from_directory(\n",
    "        train_data_dir,\n",
    "        target_size=(img_width, img_height),\n",
    "        color_mode = 'grayscale',\n",
    "        batch_size=batch_size,\n",
    "        class_mode='binary')\n",
    "\n",
    "validation_generator = datagen.flow_from_directory(\n",
    "        validation_data_dir,\n",
    "        target_size=(img_width, img_height),\n",
    "        color_mode = 'grayscale',\n",
    "        batch_size=batch_size,\n",
    "        class_mode='binary')\n",
    "\n",
    "test_generator = datagen.flow_from_directory(\n",
    "        test_data_dir,\n",
    "        target_size=(img_width, img_height),\n",
    "        color_mode = 'grayscale',\n",
    "        classes = ['test'],\n",
    "        class_mode=None)"
   ]
  },
  {
   "cell_type": "code",
   "execution_count": null,
   "metadata": {
    "colab": {
     "base_uri": "https://localhost:8080/",
     "height": 1000
    },
    "colab_type": "code",
    "executionInfo": {
     "elapsed": 3567251,
     "status": "ok",
     "timestamp": 1582875446114,
     "user": {
      "displayName": "ARBISH AKRAM",
      "photoUrl": "",
      "userId": "07144718352820072135"
     },
     "user_tz": -300
    },
    "id": "Og2by6k6Yqcd",
    "outputId": "72585b0f-45c9-4966-f6c4-a0fecc432233"
   },
   "outputs": [],
   "source": [
    "from keras.models import Sequential\n",
    "from keras.layers import Dropout, Flatten, Dense, Conv2D, MaxPooling2D\n",
    "from keras.optimizers import SGD\n",
    "\n",
    "img_width, img_height = 50, 50\n",
    "input_dim = 50*50\n",
    "output_dim = 1\n",
    "\n",
    "def CNN():\n",
    "    model = Sequential()\n",
    "    model.add(Conv2D(32, (3,3), input_shape = (img_width, img_height, 3), padding='same', activation = 'relu'))\n",
    "    model.add(MaxPooling2D(pool_size=(2, 2), padding='same'))\n",
    "    model.add(Conv2D(64, (3,3), padding='same', activation = 'relu'))\n",
    "    model.add(MaxPooling2D(pool_size=(2, 2), padding='same'))\n",
    "    model.add(Flatten())\n",
    "    model.add(Dense(500, activation = 'relu'))\n",
    "    model.add(Dense(1, activation = 'sigmoid')) \n",
    "    return model\n",
    "\n",
    "# define model\n",
    "model = CNN()\n",
    "# define optimizer\n",
    "sgd = SGD(lr=0.001)\n",
    "model.compile(optimizer = 'adam', loss = 'binary_crossentropy', metrics = ['accuracy'])\n",
    "# print model information\n",
    "model.summary()\n",
    "\n",
    "\n",
    "nb_epoch = 100\n",
    "nb_train_samples = 2000\n",
    "nb_validation_samples = 200\n",
    "\n",
    "import time\n",
    "start = time.time()\n",
    "model_info = model.fit_generator(\n",
    "        train_generator,\n",
    "        samples_per_epoch=nb_train_samples,\n",
    "        nb_epoch=nb_epoch,\n",
    "        validation_data=validation_generator,\n",
    "        nb_val_samples=nb_validation_samples)\n",
    "end = time.time()\n",
    "print(\"Model took %0.2f seconds to train\"%(end - start))"
   ]
  },
  {
   "cell_type": "code",
   "execution_count": null,
   "metadata": {
    "colab": {
     "base_uri": "https://localhost:8080/",
     "height": 350
    },
    "colab_type": "code",
    "executionInfo": {
     "elapsed": 3526,
     "status": "ok",
     "timestamp": 1582876042718,
     "user": {
      "displayName": "ARBISH AKRAM",
      "photoUrl": "",
      "userId": "07144718352820072135"
     },
     "user_tz": -300
    },
    "id": "rPsaE5_4Yqcx",
    "outputId": "186f9c59-7490-4eb0-c92e-45f7481b0bc8"
   },
   "outputs": [],
   "source": [
    "import matplotlib.pyplot as plt\n",
    "import numpy as np\n",
    "\n",
    "def plot_model_history(model_history):\n",
    "    fig, axs = plt.subplots(1,2,figsize=(15,5))\n",
    "    # model history for accuracy\n",
    "    axs[0].plot(range(1,len(model_history.history['acc'])+1),model_history.history['acc'])\n",
    "    axs[0].plot(range(1,len(model_history.history['val_acc'])+1),model_history.history['val_acc'])\n",
    "    axs[0].set_title('Model Accuracy')\n",
    "    axs[0].set_ylabel('Accuracy')\n",
    "    axs[0].set_xlabel('Epoch')\n",
    "    axs[0].set_xticks(np.arange(1,len(model_history.history['acc'])+1),len(model_history.history['acc'])/10)\n",
    "    axs[0].legend(['training acc', 'val acc'], loc='best')\n",
    "    axs[0].grid(True)\n",
    "    # model history for loss\n",
    "    axs[1].plot(range(1,len(model_history.history['loss'])+1),model_history.history['loss'])\n",
    "    axs[1].plot(range(1,len(model_history.history['val_loss'])+1),model_history.history['val_loss'])\n",
    "    axs[1].set_title('Model Loss')\n",
    "    axs[1].set_ylabel('Loss')\n",
    "    axs[1].set_xlabel('Epoch')\n",
    "    axs[1].set_xticks(np.arange(1,len(model_history.history['loss'])+1),len(model_history.history['loss'])/10)\n",
    "    axs[1].legend(['training loss', 'val loss'], loc='best')\n",
    "    axs[1].grid(True)\n",
    "    plt.show()\n",
    "plot_model_history(model_info)"
   ]
  }
 ],
 "metadata": {
  "accelerator": "GPU",
  "colab": {
   "collapsed_sections": [],
   "name": "classify_images_cats-vs-dogs.ipynb",
   "provenance": []
  },
  "kernelspec": {
   "display_name": "Python 3",
   "language": "python",
   "name": "python3"
  },
  "language_info": {
   "codemirror_mode": {
    "name": "ipython",
    "version": 3
   },
   "file_extension": ".py",
   "mimetype": "text/x-python",
   "name": "python",
   "nbconvert_exporter": "python",
   "pygments_lexer": "ipython3",
   "version": "3.5.3"
  }
 },
 "nbformat": 4,
 "nbformat_minor": 1
}
